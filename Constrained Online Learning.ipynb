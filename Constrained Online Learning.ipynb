{
 "cells": [
  {
   "cell_type": "markdown",
   "metadata": {},
   "source": [
    "# Constrained Online Meta Learning \n",
    "## A: Basic Online Learning"
   ]
  },
  {
   "cell_type": "code",
   "execution_count": 4,
   "metadata": {},
   "outputs": [],
   "source": [
    "import numpy as np\n",
    "import matplotlib.pyplot as plt "
   ]
  },
  {
   "cell_type": "markdown",
   "metadata": {},
   "source": [
    "## The problem setting :\n",
    "## $X_t$ : 1-D ~ N($\\mu_t$,$\\sigma$)\n",
    "## $Y_t$ :"
   ]
  },
  {
   "cell_type": "markdown",
   "metadata": {},
   "source": [
    "## \\begin{equation*}\n",
    "    y(x) = \\begin{cases}\n",
    "               0               & x \\leq \\mu_t \\\\\n",
    "               1               & x > \\mu_t\\\\\n",
    "           \\end{cases}\n",
    "    \\end{equation*}"
   ]
  },
  {
   "cell_type": "markdown",
   "metadata": {},
   "source": [
    "## $\\mu_t$ = 1-D random walk : $ |\\mu_t-\\mu_{t-1}| \\leq \\delta$"
   ]
  },
  {
   "cell_type": "code",
   "execution_count": 3,
   "metadata": {},
   "outputs": [],
   "source": [
    "def random_walk():\n",
    "    a = np.random.randint(0,2, size = (25))\n",
    "    a = np.cumsum(2*a-1)\n",
    "    return(a)"
   ]
  },
  {
   "cell_type": "code",
   "execution_count": 4,
   "metadata": {},
   "outputs": [],
   "source": [
    "mean_a = random_walk()"
   ]
  },
  {
   "cell_type": "code",
   "execution_count": 5,
   "metadata": {},
   "outputs": [
    {
     "data": {
      "text/plain": [
       "[<matplotlib.lines.Line2D at 0x7f62387b35d0>]"
      ]
     },
     "execution_count": 5,
     "metadata": {},
     "output_type": "execute_result"
    },
    {
     "data": {
      "image/png": "[encoded data removed]",
      "text/plain": [
       "<Figure size 432x288 with 1 Axes>"
      ]
     },
     "metadata": {
      "needs_background": "light"
     },
     "output_type": "display_data"
    }
   ],
   "source": [
    "plt.plot(mean_a)"
   ]
  },
  {
   "cell_type": "markdown",
   "metadata": {},
   "source": [
    "## Priviliged Classifier : Shifted Sigmoid\n",
    "### $\\hat y(x)\\ = \\frac{1}{1+e^{-(x+\\theta)}}$ and Binary Cross-Entropy Loss : $\\nabla_{\\theta}\\eta(\\theta) = -\\frac{1}{n}\\nabla_{\\theta}\\Sigma_1^n (yln(y_{\\theta})+(1-y)ln(1-y_{\\theta})) = -\\frac{1}{n}\\Sigma_1^n y(1-y_{\\theta})-(1-y)y_{\\theta})$"
   ]
  },
  {
   "cell_type": "markdown",
   "metadata": {},
   "source": [
    "## The labelling "
   ]
  },
  {
   "cell_type": "code",
   "execution_count": 6,
   "metadata": {},
   "outputs": [],
   "source": [
    "x = np.random.randn(10000)\n",
    "a = x[x>0]\n",
    "b = x[x<0]"
   ]
  },
  {
   "cell_type": "code",
   "execution_count": 7,
   "metadata": {
    "scrolled": true
   },
   "outputs": [
    {
     "data": {
      "text/plain": [
       "(array([  1.,   1.,   0.,   1.,   3.,   2.,   5.,  13.,  10.,  24.,  28.,\n",
       "         41.,  40.,  75.,  81.,  91., 104., 156., 166., 234., 266., 306.,\n",
       "        294., 380., 379., 420., 439., 472., 481., 496.]),\n",
       " array([-3.75305295e+00, -3.62795515e+00, -3.50285735e+00, -3.37775955e+00,\n",
       "        -3.25266176e+00, -3.12756396e+00, -3.00246616e+00, -2.87736836e+00,\n",
       "        -2.75227057e+00, -2.62717277e+00, -2.50207497e+00, -2.37697717e+00,\n",
       "        -2.25187938e+00, -2.12678158e+00, -2.00168378e+00, -1.87658598e+00,\n",
       "        -1.75148819e+00, -1.62639039e+00, -1.50129259e+00, -1.37619479e+00,\n",
       "        -1.25109700e+00, -1.12599920e+00, -1.00090140e+00, -8.75803605e-01,\n",
       "        -7.50705807e-01, -6.25608010e-01, -5.00510212e-01, -3.75412415e-01,\n",
       "        -2.50314617e-01, -1.25216820e-01, -1.19022452e-04]),\n",
       " <a list of 30 Patch objects>)"
      ]
     },
     "execution_count": 7,
     "metadata": {},
     "output_type": "execute_result"
    },
    {
     "data": {
      "image/png": "[encoded data removed]",
      "text/plain": [
       "<Figure size 432x288 with 1 Axes>"
      ]
     },
     "metadata": {
      "needs_background": "light"
     },
     "output_type": "display_data"
    }
   ],
   "source": [
    "plt.hist(a,bins = 30)\n",
    "plt.hist(b,bins = 30)"
   ]
  },
  {
   "cell_type": "code",
   "execution_count": 12,
   "metadata": {},
   "outputs": [
    {
     "data": {
      "text/plain": [
       "[<matplotlib.lines.Line2D at 0x7fbeff72fed0>]"
      ]
     },
     "execution_count": 12,
     "metadata": {},
     "output_type": "execute_result"
    },
    {
     "data": {
      "image/png": "[encoded data removed]",
      "text/plain": [
       "<Figure size 432x288 with 1 Axes>"
      ]
     },
     "metadata": {
      "needs_background": "light"
     },
     "output_type": "display_data"
    }
   ],
   "source": [
    "x = np.arange(-100,100,0.01)\n",
    "y = 1/(1+np.exp(-x+20))\n",
    "plt.plot(x,y)\n",
    "plt.plot(x,0.5*np.ones(20000))"
   ]
  },
  {
   "cell_type": "markdown",
   "metadata": {},
   "source": [
    "### If we make the slope a parameter, does the optimal slope depend on the variance?\n",
    "\n",
    "#### I imagine not."
   ]
  },
  {
   "cell_type": "markdown",
   "metadata": {},
   "source": [
    "## For very high slope of the sigmoid, the expected derivative of 0-1 error w.r.t the threshold mean is equal to $\\frac{d}{d\\theta} |\\frac{1}{\\sqrt{2\\pi}}\\int_{-\\infty}^{\\theta} (e^{-\\frac{-(t-\\mu)^2}{2}})dt-1/2|= e^{-(\\theta-\\mu)^2/2}sign(\\theta) $\n",
    "## Our experiments are for finite slope of 1 and Binary Cross Entropy Loss function,  I think it will be useful to have the expected derivative update rule for this case as then it is a proper convex optimisation problem"
   ]
  },
  {
   "cell_type": "markdown",
   "metadata": {},
   "source": [
    "### Example run of gradient descent for 10000 points from a single task"
   ]
  },
  {
   "cell_type": "code",
   "execution_count": 119,
   "metadata": {
    "scrolled": true
   },
   "outputs": [
    {
     "name": "stdout",
     "output_type": "stream",
     "text": [
      "iteration: 0\n",
      "loss_grad: 0\n",
      "param: 4.584016729020549\n",
      "0\n",
      "iteration: 1\n",
      "loss_grad: 0.4590996915163553\n",
      "param: 4.354466883262371\n",
      "0\n",
      "iteration: 2\n",
      "loss_grad: 0.44961090904676465\n",
      "param: 4.129661428738989\n",
      "0\n",
      "iteration: 3\n",
      "loss_grad: 0.4384531209105635\n",
      "param: 3.910434868283707\n",
      "0\n",
      "iteration: 4\n",
      "loss_grad: 0.42553614633478326\n",
      "param: 3.6976667951163154\n",
      "0\n",
      "iteration: 5\n",
      "loss_grad: 0.41083496739685826\n",
      "param: 3.4922493114178863\n",
      "0\n",
      "iteration: 6\n",
      "loss_grad: 0.3944043494947739\n",
      "param: 3.295047136670499\n",
      "0\n",
      "iteration: 7\n",
      "loss_grad: 0.3763861586540644\n",
      "param: 3.106854057343467\n",
      "0\n",
      "iteration: 8\n",
      "loss_grad: 0.3570067818692636\n",
      "param: 2.9283506664088352\n",
      "0\n",
      "iteration: 9\n",
      "loss_grad: 0.3365639545222542\n",
      "param: 2.760068689147708\n",
      "0\n",
      "iteration: 10\n",
      "loss_grad: 0.3154046620203163\n",
      "param: 2.6023663581375502\n",
      "0\n",
      "iteration: 11\n",
      "loss_grad: 0.293897808873391\n",
      "param: 2.455417453700855\n",
      "0\n",
      "iteration: 12\n",
      "loss_grad: 0.2724063210608401\n",
      "param: 2.3192142931704347\n",
      "0\n",
      "iteration: 13\n",
      "loss_grad: 0.2512629947203884\n",
      "param: 2.1935827958102405\n",
      "0\n",
      "iteration: 14\n",
      "loss_grad: 0.23075300235753587\n",
      "param: 2.0782062946314728\n",
      "0\n",
      "iteration: 15\n",
      "loss_grad: 0.2111041405621848\n",
      "param: 1.9726542243503804\n",
      "0\n",
      "iteration: 16\n",
      "loss_grad: 0.19248428084437053\n",
      "param: 1.8764120839281953\n",
      "0\n",
      "iteration: 17\n",
      "loss_grad: 0.1750044482109281\n",
      "param: 1.788909859822731\n",
      "0\n",
      "iteration: 18\n",
      "loss_grad: 0.15872556955827216\n",
      "param: 1.709547075043595\n",
      "0\n",
      "iteration: 19\n",
      "loss_grad: 0.14366705633953034\n",
      "param: 1.63771354687383\n",
      "0\n",
      "iteration: 20\n",
      "loss_grad: 0.12981578587161186\n",
      "param: 1.572805653938024\n",
      "0\n",
      "iteration: 21\n",
      "loss_grad: 0.1171345234237384\n",
      "param: 1.5142383922261549\n",
      "0\n",
      "iteration: 22\n",
      "loss_grad: 0.1055692558747867\n",
      "param: 1.4614537642887615\n",
      "0\n",
      "iteration: 23\n",
      "loss_grad: 0.09505523151641834\n",
      "param: 1.4139261485305523\n",
      "0\n",
      "iteration: 24\n",
      "loss_grad: 0.085521712895249\n",
      "param: 1.3711652920829278\n",
      "0\n",
      "iteration: 25\n",
      "loss_grad: 0.07689556891033376\n",
      "param: 1.3327175076277609\n",
      "0\n",
      "iteration: 26\n",
      "loss_grad: 0.0691038849169915\n",
      "param: 1.2981655651692652\n",
      "0\n",
      "iteration: 27\n",
      "loss_grad: 0.062075779705802143\n",
      "param: 1.267127675316364\n",
      "0\n",
      "iteration: 28\n",
      "loss_grad: 0.05574360472181495\n",
      "param: 1.2392558729554566\n",
      "0\n",
      "iteration: 29\n",
      "loss_grad: 0.05004367656822647\n",
      "param: 1.2142340346713434\n",
      "0\n",
      "iteration: 30\n",
      "loss_grad: 0.044916666552735185\n",
      "param: 1.1917757013949757\n",
      "0\n",
      "iteration: 31\n",
      "loss_grad: 0.040307745078125866\n",
      "param: 1.1716218288559128\n",
      "0\n",
      "iteration: 32\n",
      "loss_grad: 0.03616655603678173\n",
      "param: 1.153538550837522\n",
      "0\n",
      "iteration: 33\n",
      "loss_grad: 0.03244707765713479\n",
      "param: 1.1373150120089546\n",
      "0\n",
      "iteration: 34\n",
      "loss_grad: 0.02910741134939865\n",
      "param: 1.1227613063342552\n",
      "0\n",
      "iteration: 35\n",
      "loss_grad: 0.02610952855058065\n",
      "param: 1.109706542058965\n",
      "0\n",
      "iteration: 36\n",
      "loss_grad: 0.023418996806672546\n",
      "param: 1.0979970436556286\n",
      "0\n",
      "iteration: 37\n",
      "loss_grad: 0.021004699794625277\n",
      "param: 1.0874946937583159\n",
      "0\n",
      "iteration: 38\n",
      "loss_grad: 0.018838561184220726\n",
      "param: 1.0780754131662056\n",
      "0\n",
      "iteration: 39\n",
      "loss_grad: 0.016895278758897438\n",
      "param: 1.0696277737867568\n",
      "0\n",
      "iteration: 40\n",
      "loss_grad: 0.015152072725515086\n",
      "param: 1.0620517374239993\n",
      "0\n",
      "iteration: 41\n",
      "loss_grad: 0.01358845038912409\n",
      "param: 1.0552575122294372\n",
      "0\n",
      "iteration: 42\n",
      "loss_grad: 0.012185988153748554\n",
      "param: 1.0491645181525628\n",
      "0\n",
      "iteration: 43\n",
      "loss_grad: 0.010928130986182305\n",
      "param: 1.0437004526594718\n",
      "0\n",
      "iteration: 44\n",
      "loss_grad: 0.009800008936834751\n",
      "param: 1.0388004481910544\n",
      "0\n",
      "iteration: 45\n",
      "loss_grad: 0.008788269968671807\n",
      "param: 1.0344063132067185\n",
      "0\n",
      "iteration: 46\n",
      "loss_grad: 0.00788092814300719\n",
      "param: 1.030465849135215\n",
      "0\n",
      "iteration: 47\n",
      "loss_grad: 0.007067226106289695\n",
      "param: 1.02693223608207\n",
      "0\n",
      "iteration: 48\n",
      "loss_grad: 0.006337510784115216\n",
      "param: 1.0237634806900124\n",
      "0\n",
      "iteration: 49\n",
      "loss_grad: 0.0056831211952827285\n",
      "param: 1.0209219200923711\n",
      "0\n",
      "iteration: 50\n",
      "loss_grad: 0.0050962873340665285\n",
      "param: 1.018373776425338\n",
      "0\n",
      "iteration: 51\n",
      "loss_grad: 0.004570039121905711\n",
      "param: 1.016088756864385\n",
      "0\n",
      "iteration: 52\n",
      "loss_grad: 0.004098124492702459\n",
      "param: 1.014039694618034\n",
      "0\n",
      "iteration: 53\n",
      "loss_grad: 0.0036749357435646515\n",
      "param: 1.0122022267462516\n",
      "0\n",
      "iteration: 54\n",
      "loss_grad: 0.003295443351558356\n",
      "param: 1.0105545050704725\n",
      "0\n",
      "iteration: 55\n",
      "loss_grad: 0.0029551365244907175\n",
      "param: 1.009076936808227\n",
      "0\n",
      "iteration: 56\n",
      "loss_grad: 0.0026499698184426963\n",
      "param: 1.0077519518990057\n",
      "0\n",
      "iteration: 57\n",
      "loss_grad: 0.002376315215824775\n",
      "param: 1.0065637942910932\n",
      "0\n",
      "iteration: 58\n",
      "loss_grad: 0.0021309191146667446\n",
      "param: 1.0054983347337598\n",
      "0\n",
      "iteration: 59\n",
      "loss_grad: 0.001910863732495909\n",
      "param: 1.004542902867512\n",
      "0\n",
      "iteration: 60\n",
      "loss_grad: 0.0017135324764983807\n",
      "param: 1.0036861366292626\n",
      "0\n",
      "iteration: 61\n",
      "loss_grad: 0.0015365788758360623\n",
      "param: 1.0029178471913447\n",
      "0\n",
      "iteration: 62\n",
      "loss_grad: 0.0013778987121939054\n",
      "param: 1.0022288978352478\n",
      "0\n",
      "iteration: 63\n",
      "loss_grad: 0.001235605021113588\n",
      "param: 1.001611095324691\n",
      "0\n",
      "iteration: 64\n",
      "loss_grad: 0.0011080056696908742\n",
      "param: 1.0010570924898456\n",
      "0\n",
      "iteration: 65\n",
      "loss_grad: 0.0009935832460464325\n",
      "param: 1.0005603008668225\n",
      "0\n",
      "iteration: 66\n",
      "loss_grad: 0.0008909770228923662\n",
      "param: 1.0001148123553762\n",
      "0\n",
      "iteration: 67\n",
      "loss_grad: 0.0007989667817650116\n",
      "param: 0.9997153289644938\n",
      "0\n",
      "iteration: 68\n",
      "loss_grad: 0.0007164583063214877\n",
      "param: 0.999357099811333\n",
      "0\n",
      "iteration: 69\n",
      "loss_grad: 0.0006424703727304859\n",
      "param: 0.9990358646249677\n",
      "0\n",
      "iteration: 70\n",
      "loss_grad: 0.0005761230828362159\n",
      "param: 0.9987478030835496\n",
      "0\n",
      "iteration: 71\n",
      "loss_grad: 0.0005166274016324224\n",
      "param: 0.9984894893827334\n",
      "0\n",
      "iteration: 72\n",
      "loss_grad: 0.0004632757748232052\n",
      "param: 0.9982578514953218\n",
      "0\n",
      "iteration: 73\n",
      "loss_grad: 0.0004154337150361698\n",
      "param: 0.9980501346378037\n",
      "0\n",
      "iteration: 74\n",
      "loss_grad: 0.00037253225673159704\n",
      "param: 0.9978638685094379\n",
      "0\n",
      "iteration: 75\n",
      "loss_grad: 0.0003340611901514876\n",
      "param: 0.9976968379143621\n",
      "0\n",
      "iteration: 76\n",
      "loss_grad: 0.00029956299389648396\n",
      "param: 0.9975470564174139\n",
      "0\n",
      "iteration: 77\n",
      "loss_grad: 0.00026862739401167345\n",
      "param: 0.9974127427204081\n",
      "0\n",
      "iteration: 78\n",
      "loss_grad: 0.00024088648490176183\n",
      "param: 0.9972922994779573\n",
      "0\n",
      "iteration: 79\n",
      "loss_grad: 0.0002160103540707041\n",
      "param: 0.9971842943009219\n",
      "0\n",
      "iteration: 80\n",
      "loss_grad: 0.0001937031586656758\n",
      "param: 0.9970874427215891\n",
      "0\n",
      "iteration: 81\n",
      "loss_grad: 0.00017369960717569485\n",
      "param: 0.9970005929180012\n",
      "0\n",
      "iteration: 82\n",
      "loss_grad: 0.00015576180444961665\n",
      "param: 0.9969227120157764\n",
      "0\n",
      "iteration: 83\n",
      "loss_grad: 0.0001396764225178231\n",
      "param: 0.9968528738045175\n",
      "0\n",
      "iteration: 84\n",
      "loss_grad: 0.00012525216357466888\n",
      "param: 0.9967902477227302\n",
      "0\n",
      "iteration: 85\n",
      "loss_grad: 0.00011231748495174543\n",
      "param: 0.9967340889802543\n",
      "0\n",
      "iteration: 86\n",
      "loss_grad: 0.00010071855902888274\n",
      "param: 0.9966837297007398\n",
      "0\n",
      "iteration: 87\n",
      "loss_grad: 9.031744382095894e-05\n",
      "param: 0.9966385709788294\n",
      "0\n",
      "iteration: 88\n",
      "loss_grad: 8.099044248492646e-05\n",
      "param: 0.9965980757575869\n",
      "0\n",
      "iteration: 89\n",
      "loss_grad: 7.262663223864365e-05\n",
      "param: 0.9965617624414675\n",
      "0\n",
      "iteration: 90\n",
      "loss_grad: 6.512654519590342e-05\n",
      "param: 0.9965291991688696\n",
      "0\n",
      "iteration: 91\n",
      "loss_grad: 5.8400985430193944e-05\n",
      "param: 0.9964999986761546\n",
      "0\n",
      "iteration: 92\n",
      "loss_grad: 5.236996819912747e-05\n",
      "param: 0.996473813692055\n",
      "0\n",
      "iteration: 93\n",
      "loss_grad: 4.696176871341322e-05\n",
      "param: 0.9964503328076983\n",
      "0\n",
      "iteration: 94\n",
      "loss_grad: 4.2112069139511735e-05\n",
      "param: 0.9964292767731285\n",
      "0\n",
      "iteration: 95\n",
      "loss_grad: 3.776319368935219e-05\n",
      "param: 0.9964103951762838\n",
      "0\n",
      "iteration: 96\n",
      "loss_grad: 3.386342270262048e-05\n",
      "param: 0.9963934634649325\n",
      "0\n",
      "iteration: 97\n",
      "loss_grad: 3.0366377562404522e-05\n",
      "param: 0.9963782802761513\n",
      "0\n",
      "iteration: 98\n",
      "loss_grad: 2.7230469130586244e-05\n",
      "param: 0.9963646650415859\n",
      "0\n",
      "iteration: 99\n",
      "loss_grad: 2.441840314234014e-05\n",
      "param: 0.9963524558400148\n",
      "0\n"
     ]
    }
   ],
   "source": [
    "X=[]\n",
    "mean = -1\n",
    "x_curr = np.random.randn(10000)\n",
    "x_curr = x_curr + mean\n",
    "X.append(x_curr)\n",
    "#     loss_curr = np.log(1+np.exp(-x_curr[ind_1]+ftl_param[i]))-np.log(np.exp(-x_curr[ind_0]+ftl_param[i])/(1+np.exp(-x_curr[ind_0]+ftl_param[i])))\n",
    "\n",
    "loss_grad_btl = 0\n",
    "theta_btl = btl_param[i]\n",
    "\n",
    "loss = []\n",
    "param = []\n",
    "\n",
    "#gradient descent for btl \n",
    "for j in range(100):\n",
    "    print('iteration:',j)\n",
    "    print('loss_grad:',loss_grad_btl)\n",
    "    print('param:',theta_btl)\n",
    "    loss_grad_btl = 0\n",
    "    for k,x in enumerate(X):\n",
    "        print(k)\n",
    "        ind_1 = x > -1\n",
    "        ind_0 = x < -1\n",
    "        # -sum(1-1/1+exp)[y=1]+sum(1+exp)[y=0]\n",
    "        loss_grad_btl += (-np.sum((1-1/(1+np.exp(-(x[ind_1]+theta_btl)))))+np.sum(1/(1+np.exp(-(x[ind_0]+theta_btl)))))/10000\n",
    "    theta_btl = theta_btl - step_size*(loss_grad_btl)\n",
    "    loss_btl = (np.sum(np.log(1+np.exp(-(x_curr[ind_1]+theta_btl))))-np.sum(np.log(np.exp(-(x_curr[ind_0]+theta_btl))/(1+np.exp(-(x_curr[ind_0]+theta_btl))))))/10000\n",
    "\n",
    "    loss.append(loss_btl)\n",
    "    param.append(theta_btl)"
   ]
  },
  {
   "cell_type": "markdown",
   "metadata": {},
   "source": [
    "### Example Results (gradient descent on one task):\n",
    "Loss is blue and goes to 0.5 (min BCE)\n",
    "and weight is orange and goes to 1 (best weight) "
   ]
  },
  {
   "cell_type": "code",
   "execution_count": 118,
   "metadata": {
    "scrolled": true
   },
   "outputs": [
    {
     "data": {
      "text/plain": [
       "[<matplotlib.lines.Line2D at 0x7fbefa038150>]"
      ]
     },
     "execution_count": 118,
     "metadata": {},
     "output_type": "execute_result"
    },
    {
     "data": {
      "image/png": "[encoded data removed]",
      "text/plain": [
       "<Figure size 432x288 with 1 Axes>"
      ]
     },
     "metadata": {
      "needs_background": "light"
     },
     "output_type": "display_data"
    }
   ],
   "source": [
    "plt.plot(loss)\n",
    "plt.plot(param)"
   ]
  },
  {
   "cell_type": "code",
   "execution_count": 174,
   "metadata": {},
   "outputs": [],
   "source": [
    "ftl_param = [0]\n",
    "btl_param = [0]\n",
    "fctl_param = [0]\n",
    "\n",
    "ftl_loss = [0]\n",
    "ftcl_loss = [0]\n",
    "btl_loss = [0]\n",
    "X = []\n",
    "comparator_param = 0\n",
    "comparator_loss = 0\n",
    "total_mean = 0"
   ]
  },
  {
   "cell_type": "markdown",
   "metadata": {},
   "source": [
    "In this constraiend task setting, that is the random walk mean setting, we initialize the new parameter(for the i tasks) with the optimal parameter"
   ]
  },
  {
   "cell_type": "code",
   "execution_count": 1,
   "metadata": {
    "scrolled": false
   },
   "outputs": [
    {
     "ename": "NameError",
     "evalue": "name 'mean_a' is not defined",
     "output_type": "error",
     "traceback": [
      "\u001b[0;31m---------------------------------------------------------------------------\u001b[0m",
      "\u001b[0;31mNameError\u001b[0m                                 Traceback (most recent call last)",
      "\u001b[0;32m<ipython-input-1-d0e33f8d8187>\u001b[0m in \u001b[0;36m<module>\u001b[0;34m\u001b[0m\n\u001b[1;32m      1\u001b[0m \u001b[0mstep_size\u001b[0m \u001b[0;34m=\u001b[0m \u001b[0;36m0.5\u001b[0m\u001b[0;34m\u001b[0m\u001b[0;34m\u001b[0m\u001b[0m\n\u001b[0;32m----> 2\u001b[0;31m \u001b[0;32mfor\u001b[0m \u001b[0;34m(\u001b[0m\u001b[0mi\u001b[0m\u001b[0;34m,\u001b[0m\u001b[0mmean\u001b[0m\u001b[0;34m)\u001b[0m \u001b[0;32min\u001b[0m \u001b[0menumerate\u001b[0m\u001b[0;34m(\u001b[0m\u001b[0mmean_a\u001b[0m\u001b[0;34m)\u001b[0m\u001b[0;34m:\u001b[0m\u001b[0;34m\u001b[0m\u001b[0;34m\u001b[0m\u001b[0m\n\u001b[0m\u001b[1;32m      3\u001b[0m     \u001b[0mprint\u001b[0m\u001b[0;34m(\u001b[0m\u001b[0;34m'task:'\u001b[0m\u001b[0;34m,\u001b[0m\u001b[0mi\u001b[0m\u001b[0;34m,\u001b[0m\u001b[0;34m'mean:'\u001b[0m\u001b[0;34m,\u001b[0m\u001b[0mmean\u001b[0m\u001b[0;34m)\u001b[0m\u001b[0;34m\u001b[0m\u001b[0;34m\u001b[0m\u001b[0m\n\u001b[1;32m      4\u001b[0m     \u001b[0mx_curr\u001b[0m \u001b[0;34m=\u001b[0m \u001b[0mnp\u001b[0m\u001b[0;34m.\u001b[0m\u001b[0mrandom\u001b[0m\u001b[0;34m.\u001b[0m\u001b[0mrandn\u001b[0m\u001b[0;34m(\u001b[0m\u001b[0;36m10000\u001b[0m\u001b[0;34m)\u001b[0m\u001b[0;34m\u001b[0m\u001b[0;34m\u001b[0m\u001b[0m\n\u001b[1;32m      5\u001b[0m \u001b[0;34m\u001b[0m\u001b[0m\n",
      "\u001b[0;31mNameError\u001b[0m: name 'mean_a' is not defined"
     ]
    }
   ],
   "source": [
    "step_size = 0.5\n",
    "for (i,mean) in enumerate(mean_a):\n",
    "    print('task:',i,'mean:',mean)\n",
    "    x_curr = np.random.randn(10000)\n",
    "\n",
    "    x_curr = x_curr + mean\n",
    "    \n",
    "    X.append(x_curr)\n",
    "#     loss_curr = np.log(1+np.exp(-x_curr[ind_1]+ftl_param[i]))-np.log(np.exp(-x_curr[ind_0]+ftl_param[i])/(1+np.exp(-x_curr[ind_0]+ftl_param[i])))\n",
    "\n",
    "    \n",
    "    loss_grad_ftl = 0\n",
    "    loss_grad_btl = 0\n",
    "\n",
    "    theta_ftl = ftl_param[i]\n",
    "    theta_btl = btl_param[i]\n",
    "    \n",
    "#     print('loss',loss_curr)\n",
    "    #gradient descent for btl and ftl (without final task)\n",
    "    for j in range(100):\n",
    "        print('iteration:',j)\n",
    "        print('loss_grad:',loss_grad_btl)\n",
    "        print('param:',theta_btl)\n",
    "        loss_grad_ftl = 0\n",
    "        loss_grad_btl = 0\n",
    "        for k,x in enumerate(X):\n",
    "#             print(k)\n",
    "            ind_1 = x > mean_a[k]\n",
    "            ind_0 = x < mean_a[k]\n",
    "            # -sum(1-1/1+exp)[y=1]+sum(1+exp)[y=0]\n",
    "            loss_grad_btl += (-np.sum((1-1/(1+np.exp(-(x[ind_1]+theta_btl)))))+np.sum(1/(1+np.exp(-(x[ind_0]+theta_btl)))))/10000\n",
    "            loss_grad_ftl += (-np.sum((1-1/(1+np.exp(-(x[ind_1]+theta_ftl)))))+np.sum(1/(1+np.exp(-(x[ind_0]+theta_ftl)))))/10000\n",
    "#             print(np.sum(np.log(1+np.exp(-x_curr[ind_1]+ftl_param[i])))-np.sum(np.log(np.exp(-x_curr[ind_0]+ftl_param[i])/(1+np.exp(-x_curr[ind_0]+ftl_param[i])))))\n",
    "        \n",
    "        loss_grad_ftl-= (-np.sum((1-1/(1+np.exp(-(x[ind_1]+theta_ftl)))))+np.sum(1/(1+np.exp(-(x[ind_0]+theta_ftl)))))/10000\n",
    "        \n",
    "        theta_ftl = theta_ftl - step_size*(loss_grad_ftl)\n",
    "        theta_btl = theta_btl - step_size*(loss_grad_btl)\n",
    "    \n",
    "    theta_curr = theta_btl\n",
    "    for j in range(100):\n",
    "        x = X[-2]\n",
    "        loss_grad_curr += (-np.sum((1-1/(1+np.exp(-(x[ind_1]+theta_curr)))))+np.sum(1/(1+np.exp(-(x[ind_0]+theta_curr)))))/10000\n",
    "        theta_curr = theta_curr - step_size*(loss_grad_curr)\n",
    "        \n",
    "    if (theta_curr-theta_ftl)/np.sign(theta_curr-theta_ftl) > 1:\n",
    "        temp = [theta_curr-1,theta_curr+1]\n",
    "        a = 0\n",
    "        b = 0\n",
    "        for i in range(len(X)-1):\n",
    "            x_curr = X[i]\n",
    "            a += (np.sum(np.log(1+np.exp(-(x_curr[ind_1]+temp[0]))))-np.sum(np.log(np.exp(-(x_curr[ind_0]+temp[0]))/(1+np.exp(-(x_curr[ind_0]+temp[0]))))))/10000\n",
    "        \n",
    "        for i in range(len(X)-1):\n",
    "            x_curr = X[i]\n",
    "            b = (np.sum(np.log(1+np.exp(-(x_curr[ind_1]+temp[1]))))-np.sum(np.log(np.exp(-(x_curr[ind_0]+temp[1]))/(1+np.exp(-(x_curr[ind_0]+temp[1]))))))/10000\n",
    "\n",
    "        if b>a:\n",
    "            theta_ftl = temp[0]\n",
    "        else:\n",
    "            theta_ftl = temp[1]\n",
    "    \n",
    "    ftl_param.append(theta_ftl)\n",
    "    btl_param.append(theta_btl)        \n",
    "    ftcl_param.append()\n",
    "    ind_1 = x_curr > mean\n",
    "    ind_0 = x_curr < mean \n",
    "  \n",
    "    ftl_curr_loss = (np.sum(np.log(1+np.exp(-(x_curr[ind_1]+ftl_param[i+1]))))-np.sum(np.log(np.exp(-(x_curr[ind_0]+ftl_param[i+1]))/(1+np.exp(-(x_curr[ind_0]+ftl_param[i+1]))))))/10000\n",
    "    btl_curr_loss = (np.sum(np.log(1+np.exp(-(x_curr[ind_1]+btl_param[i+1]))))-np.sum(np.log(np.exp(-(x_curr[ind_0]+btl_param[i+1]))/(1+np.exp(-(x_curr[ind_0]+btl_param[i+1]))))))/10000\n",
    "\n",
    "\n",
    "    \n",
    "    ftl_loss.append(ftl_curr_loss)\n",
    "    btl_loss.append(btl_curr_loss)\n",
    "    ftcl_loss.append()\n",
    "\n",
    "comparator_param = btl_param[-1]\n",
    "loss_comp = []\n",
    "for k,x in enumerate(X):\n",
    "    ind_1 = x > mean_a[k]\n",
    "    ind_0 = x < mean_a[k]    \n",
    "    loss_comp.append((np.sum(np.log(1+np.exp(-(x[ind_1]+comparator_param))))-np.sum(np.log(np.exp(-(x[ind_0]+comparator_param))/(1+np.exp(-(x[ind_0]+comparator_param))))))/10000)\n",
    "plt.plot(np.cumsum(ftl_loss)[1:])\n",
    "plt.plot(np.cumsum(btl_loss)[1:])\n",
    "plt.plot(np.cumsum(np.array(loss_comp)))"
   ]
  },
  {
   "cell_type": "markdown",
   "metadata": {},
   "source": [
    "## The ftl, btl and comparator losses"
   ]
  },
  {
   "cell_type": "code",
   "execution_count": 176,
   "metadata": {},
   "outputs": [
    {
     "data": {
      "text/plain": [
       "[<matplotlib.lines.Line2D at 0x7fbef969c2d0>]"
      ]
     },
     "execution_count": 176,
     "metadata": {},
     "output_type": "execute_result"
    },
    {
     "data": {
      "image/png": "[encoded data removed]",
      "text/plain": [
       "<Figure size 432x288 with 1 Axes>"
      ]
     },
     "metadata": {
      "needs_background": "light"
     },
     "output_type": "display_data"
    }
   ],
   "source": [
    "plt.plot(np.cumsum(ftl_loss)[1:])\n",
    "plt.plot(np.cumsum(btl_loss)[1:])\n",
    "plt.plot(np.cumsum(np.array(loss_comp)))"
   ]
  },
  {
   "cell_type": "markdown",
   "metadata": {},
   "source": [
    "## Ftl and Btl regret. (0 for comparator)"
   ]
  },
  {
   "cell_type": "code",
   "execution_count": 179,
   "metadata": {},
   "outputs": [
    {
     "data": {
      "text/plain": [
       "[<matplotlib.lines.Line2D at 0x7fbef93f4e10>]"
      ]
     },
     "execution_count": 179,
     "metadata": {},
     "output_type": "execute_result"
    },
    {
     "data": {
      "image/png": "[encoded data removed]",
      "text/plain": [
       "<Figure size 432x288 with 1 Axes>"
      ]
     },
     "metadata": {
      "needs_background": "light"
     },
     "output_type": "display_data"
    }
   ],
   "source": [
    "plt.plot(np.cumsum(ftl_loss)[1:]-np.cumsum(np.array(loss_comp)))\n",
    "plt.plot(np.cumsum(btl_loss)[1:]-np.cumsum(np.array(loss_comp)))\n",
    "plt.plot(np.zeros(25))"
   ]
  },
  {
   "cell_type": "code",
   "execution_count": 166,
   "metadata": {
    "scrolled": true
   },
   "outputs": [
    {
     "data": {
      "text/plain": [
       "[<matplotlib.lines.Line2D at 0x7fbef99e3710>]"
      ]
     },
     "execution_count": 166,
     "metadata": {},
     "output_type": "execute_result"
    },
    {
     "data": {
      "image/png": "[encoded data removed]",
      "text/plain": [
       "<Figure size 432x288 with 1 Axes>"
      ]
     },
     "metadata": {
      "needs_background": "light"
     },
     "output_type": "display_data"
    }
   ],
   "source": [
    "plt.plot(np.cumsum(ftl_loss))\n",
    "plt.plot(np.cumsum(btl_loss))\n",
    "plt.plot(np.cumsum(np.array(loss_comp)))"
   ]
  },
  {
   "cell_type": "markdown",
   "metadata": {},
   "source": [
    "## The ftl, btl and comparator parameters and the (negatoive of )mean"
   ]
  },
  {
   "cell_type": "code",
   "execution_count": 187,
   "metadata": {
    "scrolled": true
   },
   "outputs": [
    {
     "data": {
      "text/plain": [
       "Text(0.5, 1.0, 'Parameters and negative Mean')"
      ]
     },
     "execution_count": 187,
     "metadata": {},
     "output_type": "execute_result"
    },
    {
     "data": {
      "image/png": "[encoded data removed]",
      "text/plain": [
       "<Figure size 432x288 with 1 Axes>"
      ]
     },
     "metadata": {
      "needs_background": "light"
     },
     "output_type": "display_data"
    }
   ],
   "source": [
    "plt.plot(np.array(ftl_param[1:]))\n",
    "plt.plot(np.array(btl_param[1:]))\n",
    "plt.plot(comparator_param*np.ones(25))\n",
    "plt.plot(-mean_a)\n",
    "plt.title('Parameters and negative Mean')"
   ]
  },
  {
   "cell_type": "code",
   "execution_count": 6,
   "metadata": {
    "scrolled": true
   },
   "outputs": [
    {
     "name": "stdout",
     "output_type": "stream",
     "text": [
      "Object `sigmoid` not found.\n",
      "Object `points` not found.\n",
      "Object `points` not found.\n",
      "Object `Stocks` not found.\n"
     ]
    }
   ],
   "source": [
    "Gaussian Complexity of a single sigmoid activated neuron?\n",
    "distance from all previous points?\n",
    "adverserial within distance from all previous points??\n",
    "Stocks?"
   ]
  },
  {
   "cell_type": "markdown",
   "metadata": {},
   "source": [
    "## We want to solve:\n",
    "\n",
    "$w* = argmin_w \\Sigma_{r=1}^T f_r(w_r) $ \n",
    "### $w = \\{w_1,w_2,..w_r\\}.$ \n"
   ]
  },
  {
   "cell_type": "markdown",
   "metadata": {},
   "source": [
    "The solution to the below Langrangian(s) need not be same as w*."
   ]
  },
  {
   "cell_type": "markdown",
   "metadata": {},
   "source": [
    "## Approach 1"
   ]
  },
  {
   "cell_type": "markdown",
   "metadata": {},
   "source": [
    "# Proposed constrained adverserial solution:\n",
    "\n",
    "### $L_t = \\Sigma_{r=1}^{t-1} f_r(w_t) + \\Sigma_{r=1}^T (\\lambda (|w_{t-r+1}-w_{t-r}| -r\\delta)) $\n",
    "\n",
    "\n",
    "### $w^* = argmin (L_t(w))$"
   ]
  },
  {
   "cell_type": "markdown",
   "metadata": {},
   "source": [
    "### We can easily the following problem :"
   ]
  },
  {
   "cell_type": "markdown",
   "metadata": {},
   "source": [
    "Optimizing the FTL loss(T-1) Constraining the weight to be within the limit .....................(1)\n",
    "\n",
    "Just taking the final condition. SInce only the last constraint is relevant\n",
    "\n",
    "### Langrangian is hence:\n",
    "\n",
    "### $L_t = \\Sigma_{r=1}^{t-1} f_r(w_t) +\\lambda (|w_t-w_{t-1}| -\\delta) $"
   ]
  },
  {
   "cell_type": "markdown",
   "metadata": {},
   "source": [
    "### We will implement the following simple algorithms (Follow the constrained leader) :\n",
    "\n",
    "    1)FTCL 1 : \n",
    "    \n",
    "       a)Find the solution of ftl if it lies in the delta ball\n",
    "       \n",
    "       b)Else search on the ball.     \n",
    "       \n",
    "    2)FTCL 2 : \n",
    "      Projected Gradient Descent.\n",
    "  "
   ]
  },
  {
   "cell_type": "markdown",
   "metadata": {},
   "source": [
    "![PGD.jpeg](./PGD.jpeg)"
   ]
  },
  {
   "cell_type": "markdown",
   "metadata": {},
   "source": [
    "Project on each ball surface (varying radius)?\n",
    "Does the langrangian really solve the constrained weight problem?"
   ]
  },
  {
   "cell_type": "code",
   "execution_count": null,
   "metadata": {},
   "outputs": [],
   "source": []
  }
 ],
 "metadata": {
  "kernelspec": {
   "display_name": "Python 3",
   "language": "python",
   "name": "python3"
  },
  "language_info": {
   "codemirror_mode": {
    "name": "ipython",
    "version": 3
   },
   "file_extension": ".py",
   "mimetype": "text/x-python",
   "name": "python",
   "nbconvert_exporter": "python",
   "pygments_lexer": "ipython3",
   "version": "3.7.4"
  }
 },
 "nbformat": 4,
 "nbformat_minor": 2
}
